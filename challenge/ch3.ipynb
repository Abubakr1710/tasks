{
 "cells": [
  {
   "cell_type": "code",
   "execution_count": 2,
   "metadata": {},
   "outputs": [
    {
     "name": "stdout",
     "output_type": "stream",
     "text": [
      "['1', '2', 'Strive', '4', 'School', 'Strive', '7', '8', 'Strive']\n"
     ]
    }
   ],
   "source": [
    "class Solution(object):\n",
    "   def Strive_School(self, n):\n",
    "      result = []\n",
    "      for i in range(1,n+1):\n",
    "         if i% 3== 0 and i%5==0:\n",
    "            result.append(\"Strive School\")\n",
    "         elif i %3==0:\n",
    "            result.append(\"Strive\")\n",
    "         elif i% 5 == 0:\n",
    "            result.append(\"School\")\n",
    "         else:\n",
    "            result.append(str(i))\n",
    "      return result\n",
    "ob1 = Solution()\n",
    "print(ob1.Strive_School(30))"
   ]
  },
  {
   "cell_type": "code",
   "execution_count": 4,
   "metadata": {},
   "outputs": [
    {
     "name": "stdout",
     "output_type": "stream",
     "text": [
      "['1', '2', 'Strive', '4', 'School', 'Strive', '7', '8', 'Strive', 'School', '11', 'Strive', '13', '14', 'Strive School']\n"
     ]
    }
   ],
   "source": [
    "class Solution(object):\n",
    "   def Strive_School(self, list):\n",
    "      result = []\n",
    "      for i in range(1,len(list)+1):\n",
    "         if i% 3== 0 and i%5==0:\n",
    "            result.append(\"Strive School\")\n",
    "         elif i %3==0:\n",
    "            result.append(\"Strive\")\n",
    "         elif i% 5 == 0:\n",
    "            result.append(\"School\")\n",
    "         else:\n",
    "            result.append(str(i))\n",
    "      return result\n",
    "ob1 = Solution()\n",
    "print(ob1.Strive_School([1,2,3,4,5,6,7,8,9,10,11,12,13,14,15]))\n"
   ]
  }
 ],
 "metadata": {
  "interpreter": {
   "hash": "d1149800258fca5f77b80b7ad0b39fa29894bab1cbb76b084b2d2d6ed337cc96"
  },
  "kernelspec": {
   "display_name": "Python 3.9.7 64-bit ('ai': conda)",
   "language": "python",
   "name": "python3"
  },
  "language_info": {
   "codemirror_mode": {
    "name": "ipython",
    "version": 3
   },
   "file_extension": ".py",
   "mimetype": "text/x-python",
   "name": "python",
   "nbconvert_exporter": "python",
   "pygments_lexer": "ipython3",
   "version": "3.9.7"
  },
  "orig_nbformat": 4
 },
 "nbformat": 4,
 "nbformat_minor": 2
}
