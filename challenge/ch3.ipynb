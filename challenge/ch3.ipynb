{
 "cells": [
  {
   "cell_type": "code",
   "execution_count": null,
   "metadata": {},
   "outputs": [],
   "source": [
    "class Solution(object):\n",
    "   def Strive_School(self, n):\n",
    "      result = []\n",
    "      for i in range(1,n+1):\n",
    "         if i% 3== 0 and i%5==0:\n",
    "            result.append(\"Strive School\")\n",
    "         elif i %3==0:\n",
    "            result.append(\"Strive\")\n",
    "         elif i% 5 == 0:\n",
    "            result.append(\"School\")\n",
    "         else:\n",
    "            result.append(str(i))\n",
    "      return result\n",
    "ob1 = Solution()\n",
    "print(ob1.Strive_School(30))"
   ]
  }
 ],
 "metadata": {
  "language_info": {
   "name": "python"
  },
  "orig_nbformat": 4
 },
 "nbformat": 4,
 "nbformat_minor": 2
}
