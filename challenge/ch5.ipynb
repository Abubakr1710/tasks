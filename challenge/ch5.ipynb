{
 "cells": [
  {
   "cell_type": "code",
   "execution_count": 1,
   "metadata": {},
   "outputs": [],
   "source": [
    "def secretAgent(people,pairs):\n",
    "    if people<=0 or len(pairs)>people:\n",
    "        return -1\n",
    "    for i in pairs:\n",
    "        if len(i)!=2:\n",
    "            return -1 \n",
    "    nonSpy=[]        \n",
    "    for i in pairs:\n",
    "        nonSpy.append(i[1]) \n",
    "    nonSpy=set(nonSpy)    \n",
    "    nonSpy=list(nonSpy)\n",
    "    Spy=[]\n",
    "    for i in pairs:\n",
    "        if i[0] not in nonSpy:\n",
    "            Spy.append(i[0])         \n",
    "    count={}        \n",
    "    for i in Spy:\n",
    "        count[i]=count.get(i,0)+1\n",
    "    for key,values in count.items():\n",
    "        if values>1:\n",
    "            return (key) \n",
    "        \n",
    "    if len(Spy)<=0:\n",
    "        return 0 "
   ]
  },
  {
   "cell_type": "code",
   "execution_count": 2,
   "metadata": {},
   "outputs": [
    {
     "data": {
      "text/plain": [
       "'felix'"
      ]
     },
     "execution_count": 2,
     "metadata": {},
     "output_type": "execute_result"
    }
   ],
   "source": [
    "secretAgent(3,[['felix', 'lara'], ['felix', 'jeno'], ['jeno', 'lara']])"
   ]
  }
 ],
 "metadata": {
  "interpreter": {
   "hash": "d1149800258fca5f77b80b7ad0b39fa29894bab1cbb76b084b2d2d6ed337cc96"
  },
  "kernelspec": {
   "display_name": "Python 3.9.7 64-bit ('ai': conda)",
   "language": "python",
   "name": "python3"
  },
  "language_info": {
   "codemirror_mode": {
    "name": "ipython",
    "version": 3
   },
   "file_extension": ".py",
   "mimetype": "text/x-python",
   "name": "python",
   "nbconvert_exporter": "python",
   "pygments_lexer": "ipython3",
   "version": "3.9.7"
  },
  "orig_nbformat": 4
 },
 "nbformat": 4,
 "nbformat_minor": 2
}
