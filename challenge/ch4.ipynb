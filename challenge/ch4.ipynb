{
 "cells": [
  {
   "cell_type": "code",
   "execution_count": null,
   "metadata": {},
   "outputs": [],
   "source": [
    "length=int(input(\"Length of list:\"))  #gets length of list from user \n",
    "list=[]\n",
    "for i in range(length):\n",
    "    a=int(input()) #gets index of list\n",
    "    list.append(a) #add index to the list\n",
    "\n",
    "for i in set(list): #set collection\n",
    "    if list.count(i)==1: #count returns the number of elements with the specified value. if list.count(i)==1: checks for non duplicate \n",
    "        print(\"This one is non duplicate: \",i)"
   ]
  }
 ],
 "metadata": {
  "language_info": {
   "name": "python"
  },
  "orig_nbformat": 4
 },
 "nbformat": 4,
 "nbformat_minor": 2
}
