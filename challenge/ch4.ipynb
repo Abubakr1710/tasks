{
 "cells": [
  {
   "cell_type": "code",
   "execution_count": 2,
   "metadata": {},
   "outputs": [
    {
     "name": "stdout",
     "output_type": "stream",
     "text": [
      "This one is non duplicate:  5\n",
      "This one is non duplicate:  7\n",
      "This one is non duplicate:  8\n"
     ]
    },
    {
     "data": {
      "text/plain": [
       "<__main__.Non_Duplicate at 0x255c0a1d4c0>"
      ]
     },
     "execution_count": 2,
     "metadata": {},
     "output_type": "execute_result"
    }
   ],
   "source": [
    "class Non_Duplicate():\n",
    "    def __init__(self,list):\n",
    "        self.list = list\n",
    "        for i in set(self.list):\n",
    "            if list.count(i) == 1:\n",
    "                print(\"This one is non duplicate: \",i)\n",
    "Non_Duplicate([1,2,3,4,5,6,7,8,1,2,3,4,6])"
   ]
  }
 ],
 "metadata": {
  "interpreter": {
   "hash": "d1149800258fca5f77b80b7ad0b39fa29894bab1cbb76b084b2d2d6ed337cc96"
  },
  "kernelspec": {
   "display_name": "Python 3.9.7 64-bit ('ai': conda)",
   "language": "python",
   "name": "python3"
  },
  "language_info": {
   "codemirror_mode": {
    "name": "ipython",
    "version": 3
   },
   "file_extension": ".py",
   "mimetype": "text/x-python",
   "name": "python",
   "nbconvert_exporter": "python",
   "pygments_lexer": "ipython3",
   "version": "3.9.7"
  },
  "orig_nbformat": 4
 },
 "nbformat": 4,
 "nbformat_minor": 2
}
